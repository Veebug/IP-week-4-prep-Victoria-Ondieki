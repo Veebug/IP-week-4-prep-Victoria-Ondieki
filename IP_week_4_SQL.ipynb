{
  "nbformat": 4,
  "nbformat_minor": 0,
  "metadata": {
    "colab": {
      "name": "IP week 4 SQL.ipynb",
      "provenance": [],
      "authorship_tag": "ABX9TyPjfi9bpB4QdR3PJgk3ZFi5",
      "include_colab_link": true
    },
    "kernelspec": {
      "name": "python3",
      "display_name": "Python 3"
    },
    "language_info": {
      "name": "python"
    }
  },
  "cells": [
    {
      "cell_type": "markdown",
      "metadata": {
        "id": "view-in-github",
        "colab_type": "text"
      },
      "source": [
        "<a href=\"https://colab.research.google.com/github/Veebug/IP-week-4-prep-Victoria-Ondieki/blob/main/IP_week_4_SQL.ipynb\" target=\"_parent\"><img src=\"https://colab.research.google.com/assets/colab-badge.svg\" alt=\"Open In Colab\"/></a>"
      ]
    },
    {
      "cell_type": "code",
      "metadata": {
        "colab": {
          "base_uri": "https://localhost:8080/",
          "height": 69
        },
        "id": "za6VldAC1OYN",
        "outputId": "37e59327-0746-4526-d9e0-057c5174a578"
      },
      "source": [
        "%load_ext sql\n",
        "%sql sqlite://\n"
      ],
      "execution_count": null,
      "outputs": [
        {
          "output_type": "stream",
          "text": [
            "The sql extension is already loaded. To reload it, use:\n",
            "  %reload_ext sql\n"
          ],
          "name": "stdout"
        },
        {
          "output_type": "execute_result",
          "data": {
            "application/vnd.google.colaboratory.intrinsic+json": {
              "type": "string"
            },
            "text/plain": [
              "'Connected: @None'"
            ]
          },
          "metadata": {
            "tags": []
          },
          "execution_count": 3
        }
      ]
    },
    {
      "cell_type": "code",
      "metadata": {
        "colab": {
          "base_uri": "https://localhost:8080/",
          "height": 471
        },
        "id": "5Gyl_XZz13cV",
        "outputId": "63418862-5e0f-4849-f08a-3a10a7622148"
      },
      "source": [
        "import pandas as pd\n",
        "\n",
        "with open('cleandata','r') as f:\n",
        "    cleandata = pd.read_csv(f, index_col=0, encoding='utf-8')\n",
        "%sql DROP TABLE if EXISTS cleandata;\n",
        "%sql PERSIST cleandata;\n",
        "%sql SELECT * FROM cleandata LIMIT 5;"
      ],
      "execution_count": null,
      "outputs": [
        {
          "output_type": "stream",
          "text": [
            " * sqlite://\n",
            "Done.\n",
            " * sqlite://\n",
            " * sqlite://\n",
            "Done.\n"
          ],
          "name": "stdout"
        },
        {
          "output_type": "execute_result",
          "data": {
            "text/html": [
              "<table>\n",
              "    <thead>\n",
              "        <tr>\n",
              "            <th>index</th>\n",
              "            <th>Address</th>\n",
              "            <th>Cars</th>\n",
              "            <th>Bluecar counter</th>\n",
              "            <th>Utilib counter</th>\n",
              "            <th>Utilib 1.4 counter</th>\n",
              "            <th>Charge Slots</th>\n",
              "            <th>Charging Status</th>\n",
              "            <th>City</th>\n",
              "            <th>ID</th>\n",
              "            <th>Kind</th>\n",
              "            <th>Geo point</th>\n",
              "            <th>Postal code</th>\n",
              "            <th>Public name</th>\n",
              "            <th>Rental status</th>\n",
              "            <th>Slots</th>\n",
              "            <th>Station type</th>\n",
              "            <th>Status</th>\n",
              "            <th>Subscription status</th>\n",
              "            <th>year</th>\n",
              "            <th>month</th>\n",
              "            <th>day</th>\n",
              "            <th>hour</th>\n",
              "            <th>minute</th>\n",
              "        </tr>\n",
              "    </thead>\n",
              "    <tbody>\n",
              "        <tr>\n",
              "            <td>0</td>\n",
              "            <td>2 Avenue de Suffren</td>\n",
              "            <td>0</td>\n",
              "            <td>0</td>\n",
              "            <td>0</td>\n",
              "            <td>0</td>\n",
              "            <td>0</td>\n",
              "            <td>nonexistent</td>\n",
              "            <td>Paris</td>\n",
              "            <td>paris-suffren-2</td>\n",
              "            <td>STATION</td>\n",
              "            <td>48.857, 2.2917</td>\n",
              "            <td>75015</td>\n",
              "            <td>Paris/Suffren/2</td>\n",
              "            <td>operational</td>\n",
              "            <td>2</td>\n",
              "            <td>station</td>\n",
              "            <td>ok</td>\n",
              "            <td>nonexistent</td>\n",
              "            <td>2018</td>\n",
              "            <td>4</td>\n",
              "            <td>8</td>\n",
              "            <td>11</td>\n",
              "            <td>43</td>\n",
              "        </tr>\n",
              "        <tr>\n",
              "            <td>1</td>\n",
              "            <td>145 Rue Raymond Losserand</td>\n",
              "            <td>6</td>\n",
              "            <td>6</td>\n",
              "            <td>0</td>\n",
              "            <td>0</td>\n",
              "            <td>0</td>\n",
              "            <td>operational</td>\n",
              "            <td>Paris</td>\n",
              "            <td>paris-raymondlosserand-145</td>\n",
              "            <td>STATION</td>\n",
              "            <td>48.83126, 2.313088</td>\n",
              "            <td>75014</td>\n",
              "            <td>Paris/Raymond Losserand/145</td>\n",
              "            <td>operational</td>\n",
              "            <td>0</td>\n",
              "            <td>station</td>\n",
              "            <td>ok</td>\n",
              "            <td>nonexistent</td>\n",
              "            <td>2018</td>\n",
              "            <td>4</td>\n",
              "            <td>6</td>\n",
              "            <td>7</td>\n",
              "            <td>24</td>\n",
              "        </tr>\n",
              "        <tr>\n",
              "            <td>2</td>\n",
              "            <td>2 Avenue John Fitzgerald Kennedy</td>\n",
              "            <td>3</td>\n",
              "            <td>3</td>\n",
              "            <td>0</td>\n",
              "            <td>2</td>\n",
              "            <td>0</td>\n",
              "            <td>operational</td>\n",
              "            <td>Le Bourget</td>\n",
              "            <td>lebourget-johnfitzgeraldkennedy-2</td>\n",
              "            <td>STATION</td>\n",
              "            <td>48.938103, 2.4286035</td>\n",
              "            <td>93350</td>\n",
              "            <td>Le Bourget/John Fitzgerald Kennedy/2</td>\n",
              "            <td>operational</td>\n",
              "            <td>1</td>\n",
              "            <td>station</td>\n",
              "            <td>ok</td>\n",
              "            <td>nonexistent</td>\n",
              "            <td>2018</td>\n",
              "            <td>4</td>\n",
              "            <td>3</td>\n",
              "            <td>20</td>\n",
              "            <td>14</td>\n",
              "        </tr>\n",
              "        <tr>\n",
              "            <td>3</td>\n",
              "            <td>51 Rue EugÃ¨ne OudinÃ©</td>\n",
              "            <td>3</td>\n",
              "            <td>3</td>\n",
              "            <td>1</td>\n",
              "            <td>0</td>\n",
              "            <td>1</td>\n",
              "            <td>operational</td>\n",
              "            <td>Paris</td>\n",
              "            <td>paris-eugeneoudine-51</td>\n",
              "            <td>STATION</td>\n",
              "            <td>48.8250327, 2.3725162</td>\n",
              "            <td>75013</td>\n",
              "            <td>Paris/EugÃ¨ne OudinÃ©/51</td>\n",
              "            <td>operational</td>\n",
              "            <td>2</td>\n",
              "            <td>station</td>\n",
              "            <td>ok</td>\n",
              "            <td>nonexistent</td>\n",
              "            <td>2018</td>\n",
              "            <td>4</td>\n",
              "            <td>4</td>\n",
              "            <td>4</td>\n",
              "            <td>37</td>\n",
              "        </tr>\n",
              "        <tr>\n",
              "            <td>4</td>\n",
              "            <td>6 avenue de la Porte de Champerret</td>\n",
              "            <td>3</td>\n",
              "            <td>3</td>\n",
              "            <td>0</td>\n",
              "            <td>0</td>\n",
              "            <td>0</td>\n",
              "            <td>nonexistent</td>\n",
              "            <td>Paris</td>\n",
              "            <td>paris-portedechamperret-6</td>\n",
              "            <td>PARKING</td>\n",
              "            <td>48.8862632, 2.2874511</td>\n",
              "            <td>75017</td>\n",
              "            <td>Paris/Porte de Champerret/6</td>\n",
              "            <td>operational</td>\n",
              "            <td>3</td>\n",
              "            <td>station</td>\n",
              "            <td>ok</td>\n",
              "            <td>nonexistent</td>\n",
              "            <td>2018</td>\n",
              "            <td>4</td>\n",
              "            <td>8</td>\n",
              "            <td>17</td>\n",
              "            <td>23</td>\n",
              "        </tr>\n",
              "    </tbody>\n",
              "</table>"
            ],
            "text/plain": [
              "[(0, '2 Avenue de Suffren', 0, 0, 0, 0, 0, 'nonexistent', 'Paris', 'paris-suffren-2', 'STATION', '48.857, 2.2917', 75015, 'Paris/Suffren/2', 'operational', 2, 'station', 'ok', 'nonexistent', 2018, 4, 8, 11, 43),\n",
              " (1, '145 Rue Raymond Losserand', 6, 6, 0, 0, 0, 'operational', 'Paris', 'paris-raymondlosserand-145', 'STATION', '48.83126, 2.313088', 75014, 'Paris/Raymond Losserand/145', 'operational', 0, 'station', 'ok', 'nonexistent', 2018, 4, 6, 7, 24),\n",
              " (2, '2 Avenue John Fitzgerald Kennedy', 3, 3, 0, 2, 0, 'operational', 'Le Bourget', 'lebourget-johnfitzgeraldkennedy-2', 'STATION', '48.938103, 2.4286035', 93350, 'Le Bourget/John Fitzgerald Kennedy/2', 'operational', 1, 'station', 'ok', 'nonexistent', 2018, 4, 3, 20, 14),\n",
              " (3, '51 Rue EugÃ¨ne OudinÃ©', 3, 3, 1, 0, 1, 'operational', 'Paris', 'paris-eugeneoudine-51', 'STATION', '48.8250327, 2.3725162', 75013, 'Paris/EugÃ¨ne OudinÃ©/51', 'operational', 2, 'station', 'ok', 'nonexistent', 2018, 4, 4, 4, 37),\n",
              " (4, '6 avenue de la Porte de Champerret', 3, 3, 0, 0, 0, 'nonexistent', 'Paris', 'paris-portedechamperret-6', 'PARKING', '48.8862632, 2.2874511', 75017, 'Paris/Porte de Champerret/6', 'operational', 3, 'station', 'ok', 'nonexistent', 2018, 4, 8, 17, 23)]"
            ]
          },
          "metadata": {
            "tags": []
          },
          "execution_count": 4
        }
      ]
    },
    {
      "cell_type": "code",
      "metadata": {
        "colab": {
          "base_uri": "https://localhost:8080/",
          "height": 95
        },
        "id": "svirg9Y9207O",
        "outputId": "eaff14ae-09fe-44a7-acaa-9b7c54d025f9"
      },
      "source": [
        "# Identify the most popular hour of the day for picking up a shared electric car (Bluecar) in the city of Paris over the month of April 2018? hour 21\n",
        "%%sql\n",
        "select City, hour, count(hour) from cleandata\n",
        "where city='Paris' and month =4 and year =2018 and slots<7\n",
        "group by hour\n",
        "order by count(hour) desc\n",
        "limit 1"
      ],
      "execution_count": null,
      "outputs": [
        {
          "output_type": "stream",
          "text": [
            " * sqlite://\n",
            "Done.\n"
          ],
          "name": "stdout"
        },
        {
          "output_type": "execute_result",
          "data": {
            "text/html": [
              "<table>\n",
              "    <thead>\n",
              "        <tr>\n",
              "            <th>City</th>\n",
              "            <th>hour</th>\n",
              "            <th>count(hour)</th>\n",
              "        </tr>\n",
              "    </thead>\n",
              "    <tbody>\n",
              "        <tr>\n",
              "            <td>Paris</td>\n",
              "            <td>21</td>\n",
              "            <td>147</td>\n",
              "        </tr>\n",
              "    </tbody>\n",
              "</table>"
            ],
            "text/plain": [
              "[('Paris', 21, 147)]"
            ]
          },
          "metadata": {
            "tags": []
          },
          "execution_count": 10
        }
      ]
    },
    {
      "cell_type": "code",
      "metadata": {
        "id": "jS8AZbw-8PNK",
        "colab": {
          "base_uri": "https://localhost:8080/",
          "height": 95
        },
        "outputId": "0dfa4b11-3972-4653-ca5b-fdc976cd9d67"
      },
      "source": [
        "#What is the most popular hour for returning cars? hour 16\n",
        "\n",
        "%%sql\n",
        "select hour, count(hour) from cleandata\n",
        "where slots>0 group by hour\n",
        "order by count(hour) desc\n",
        "limit 1"
      ],
      "execution_count": null,
      "outputs": [
        {
          "output_type": "stream",
          "text": [
            " * sqlite://\n",
            "Done.\n"
          ],
          "name": "stdout"
        },
        {
          "output_type": "execute_result",
          "data": {
            "text/html": [
              "<table>\n",
              "    <thead>\n",
              "        <tr>\n",
              "            <th>hour</th>\n",
              "            <th>count(hour)</th>\n",
              "        </tr>\n",
              "    </thead>\n",
              "    <tbody>\n",
              "        <tr>\n",
              "            <td>16</td>\n",
              "            <td>152</td>\n",
              "        </tr>\n",
              "    </tbody>\n",
              "</table>"
            ],
            "text/plain": [
              "[(16, 152)]"
            ]
          },
          "metadata": {
            "tags": []
          },
          "execution_count": 11
        }
      ]
    },
    {
      "cell_type": "code",
      "metadata": {
        "colab": {
          "base_uri": "https://localhost:8080/",
          "height": 95
        },
        "id": "w_JXSeccxRDT",
        "outputId": "01ee08ba-d9b0-4a2b-d6a3-ba8abb607492"
      },
      "source": [
        "#What station is the most popular?Overall? answer=station\n",
        "%%sql\n",
        "select \"Station type\", count(\"Station type\") from cleandata\n",
        "group by \"Station type\" \n",
        "order by count(\"Station type\") desc\n",
        "limit 1\n"
      ],
      "execution_count": null,
      "outputs": [
        {
          "output_type": "stream",
          "text": [
            " * sqlite://\n",
            "Done.\n"
          ],
          "name": "stdout"
        },
        {
          "output_type": "execute_result",
          "data": {
            "text/html": [
              "<table>\n",
              "    <thead>\n",
              "        <tr>\n",
              "            <th>Station type</th>\n",
              "            <th>count(&quot;Station type&quot;)</th>\n",
              "        </tr>\n",
              "    </thead>\n",
              "    <tbody>\n",
              "        <tr>\n",
              "            <td>station</td>\n",
              "            <td>4615</td>\n",
              "        </tr>\n",
              "    </tbody>\n",
              "</table>"
            ],
            "text/plain": [
              "[('station', 4615)]"
            ]
          },
          "metadata": {
            "tags": []
          },
          "execution_count": 14
        }
      ]
    },
    {
      "cell_type": "code",
      "metadata": {
        "colab": {
          "base_uri": "https://localhost:8080/",
          "height": 116
        },
        "id": "trrghUMFxXzm",
        "outputId": "c9ebf6fc-7e93-48e6-d5a8-943a068f7237"
      },
      "source": [
        "#What station is the most popular? At the most popular picking hour?\n",
        "%%sql\n",
        "select \"Station type\", count(\"Station type\") from cleandata\n",
        "where \"hour\"=21\n",
        "group by \"Station type\" \n",
        "order by count(\"Station type\") desc"
      ],
      "execution_count": null,
      "outputs": [
        {
          "output_type": "stream",
          "text": [
            " * sqlite://\n",
            "Done.\n"
          ],
          "name": "stdout"
        },
        {
          "output_type": "execute_result",
          "data": {
            "text/html": [
              "<table>\n",
              "    <thead>\n",
              "        <tr>\n",
              "            <th>Station type</th>\n",
              "            <th>count(&quot;Station type&quot;)</th>\n",
              "        </tr>\n",
              "    </thead>\n",
              "    <tbody>\n",
              "        <tr>\n",
              "            <td>station</td>\n",
              "            <td>220</td>\n",
              "        </tr>\n",
              "        <tr>\n",
              "            <td>full_station</td>\n",
              "            <td>17</td>\n",
              "        </tr>\n",
              "    </tbody>\n",
              "</table>"
            ],
            "text/plain": [
              "[('station', 220), ('full_station', 17)]"
            ]
          },
          "metadata": {
            "tags": []
          },
          "execution_count": 19
        }
      ]
    },
    {
      "cell_type": "code",
      "metadata": {
        "colab": {
          "base_uri": "https://localhost:8080/",
          "height": 95
        },
        "id": "NS12X7NK1bp_",
        "outputId": "1e75f53e-cbf9-4c98-8902-86354127ffb5"
      },
      "source": [
        "#What postal code is the most popular for picking up Blue cars? Does the most popular station belong to that postal code? overall\n",
        "%%sql\n",
        "select \"Postal code\", count(\"Postal code\") from cleandata\n",
        "where \"Bluecar counter\">0 and Slots<7\n",
        "group by \"Postal code\" \n",
        "order by count(\"Postal code\") desc\n",
        "limit 1\n"
      ],
      "execution_count": null,
      "outputs": [
        {
          "output_type": "stream",
          "text": [
            " * sqlite://\n",
            "Done.\n"
          ],
          "name": "stdout"
        },
        {
          "output_type": "execute_result",
          "data": {
            "text/html": [
              "<table>\n",
              "    <thead>\n",
              "        <tr>\n",
              "            <th>Postal code</th>\n",
              "            <th>count(&quot;Postal code&quot;)</th>\n",
              "        </tr>\n",
              "    </thead>\n",
              "    <tbody>\n",
              "        <tr>\n",
              "            <td>75015</td>\n",
              "            <td>195</td>\n",
              "        </tr>\n",
              "    </tbody>\n",
              "</table>"
            ],
            "text/plain": [
              "[(75015, 195)]"
            ]
          },
          "metadata": {
            "tags": []
          },
          "execution_count": 23
        }
      ]
    },
    {
      "cell_type": "code",
      "metadata": {
        "colab": {
          "base_uri": "https://localhost:8080/",
          "height": 116
        },
        "id": "_ZKbTbw-3f1i",
        "outputId": "529946e3-f1ce-403d-d798-6094759896d2"
      },
      "source": [
        "#What postal code is the most popular for picking up Blue cars? Does the most popular station belong to that postal code? At the most popular picking hour?\n",
        "%%sql\n",
        "select \"Postal code\", count(\"Postal code\") from cleandata\n",
        "where \"Bluecar counter\">0 and Slots<7 and \"hour\"=21\n",
        "group by \"Postal code\" \n",
        "order by count(\"Postal code\") desc\n",
        "limit 2\n"
      ],
      "execution_count": null,
      "outputs": [
        {
          "output_type": "stream",
          "text": [
            " * sqlite://\n",
            "Done.\n"
          ],
          "name": "stdout"
        },
        {
          "output_type": "execute_result",
          "data": {
            "text/html": [
              "<table>\n",
              "    <thead>\n",
              "        <tr>\n",
              "            <th>Postal code</th>\n",
              "            <th>count(&quot;Postal code&quot;)</th>\n",
              "        </tr>\n",
              "    </thead>\n",
              "    <tbody>\n",
              "        <tr>\n",
              "            <td>75014</td>\n",
              "            <td>12</td>\n",
              "        </tr>\n",
              "        <tr>\n",
              "            <td>75019</td>\n",
              "            <td>12</td>\n",
              "        </tr>\n",
              "    </tbody>\n",
              "</table>"
            ],
            "text/plain": [
              "[(75014, 12), (75019, 12)]"
            ]
          },
          "metadata": {
            "tags": []
          },
          "execution_count": 26
        }
      ]
    },
    {
      "cell_type": "code",
      "metadata": {
        "colab": {
          "base_uri": "https://localhost:8080/",
          "height": 95
        },
        "id": "v-Wkszuw4OVy",
        "outputId": "f692395d-95cf-4169-8b70-0f21706ab2d4"
      },
      "source": [
        "#Do the results change if you consider Utilib and Utilib 1.4 instead of Blue cars? \n",
        "#utilib\n",
        "%%sql\n",
        "select \"Postal code\", count(\"Postal code\") from cleandata\n",
        "where \"Utilib counter\"> 0 AND Slots< 7 AND \"hour\" =21\n",
        "group by \"Postal code\" \n",
        "limit 1"
      ],
      "execution_count": null,
      "outputs": [
        {
          "output_type": "stream",
          "text": [
            " * sqlite://\n",
            "Done.\n"
          ],
          "name": "stdout"
        },
        {
          "output_type": "execute_result",
          "data": {
            "text/html": [
              "<table>\n",
              "    <thead>\n",
              "        <tr>\n",
              "            <th>Postal code</th>\n",
              "            <th>count(&quot;Postal code&quot;)</th>\n",
              "        </tr>\n",
              "    </thead>\n",
              "    <tbody>\n",
              "        <tr>\n",
              "            <td>75007</td>\n",
              "            <td>1</td>\n",
              "        </tr>\n",
              "    </tbody>\n",
              "</table>"
            ],
            "text/plain": [
              "[(75007, 1)]"
            ]
          },
          "metadata": {
            "tags": []
          },
          "execution_count": 28
        }
      ]
    },
    {
      "cell_type": "code",
      "metadata": {
        "colab": {
          "base_uri": "https://localhost:8080/",
          "height": 137
        },
        "id": "PFRCwEpU5nmj",
        "outputId": "1fcbe563-5390-405b-ad01-cbe42aa47dfd"
      },
      "source": [
        "#utilib again\n",
        "#not the same\n",
        "%%sql\n",
        "select \"Postal code\", count(\"Postal code\") from cleandata\n",
        "where \"Utilib counter\"> 0 AND Slots< 7\n",
        "group by \"Postal code\" \n",
        "order by count(\"Postal code\") desc limit 3"
      ],
      "execution_count": null,
      "outputs": [
        {
          "output_type": "stream",
          "text": [
            " * sqlite://\n",
            "Done.\n"
          ],
          "name": "stdout"
        },
        {
          "output_type": "execute_result",
          "data": {
            "text/html": [
              "<table>\n",
              "    <thead>\n",
              "        <tr>\n",
              "            <th>Postal code</th>\n",
              "            <th>count(&quot;Postal code&quot;)</th>\n",
              "        </tr>\n",
              "    </thead>\n",
              "    <tbody>\n",
              "        <tr>\n",
              "            <td>75016</td>\n",
              "            <td>20</td>\n",
              "        </tr>\n",
              "        <tr>\n",
              "            <td>75017</td>\n",
              "            <td>20</td>\n",
              "        </tr>\n",
              "        <tr>\n",
              "            <td>75015</td>\n",
              "            <td>17</td>\n",
              "        </tr>\n",
              "    </tbody>\n",
              "</table>"
            ],
            "text/plain": [
              "[(75016, 20), (75017, 20), (75015, 17)]"
            ]
          },
          "metadata": {
            "tags": []
          },
          "execution_count": 30
        }
      ]
    },
    {
      "cell_type": "code",
      "metadata": {
        "colab": {
          "base_uri": "https://localhost:8080/",
          "height": 137
        },
        "id": "0Bt0o7Ue6GTX",
        "outputId": "90125842-4d1b-4a02-a6ce-9f6523181296"
      },
      "source": [
        "#utlib 1.4\n",
        "%%sql\n",
        "select \"Postal code\", count(\"Postal code\") from cleandata\n",
        "where \"Utilib 1.4 counter\"> 0 AND Slots< 7\n",
        "group by \"Postal code\" \n",
        "order by count(\"Postal code\") desc limit 3"
      ],
      "execution_count": null,
      "outputs": [
        {
          "output_type": "stream",
          "text": [
            " * sqlite://\n",
            "Done.\n"
          ],
          "name": "stdout"
        },
        {
          "output_type": "execute_result",
          "data": {
            "text/html": [
              "<table>\n",
              "    <thead>\n",
              "        <tr>\n",
              "            <th>Postal code</th>\n",
              "            <th>count(&quot;Postal code&quot;)</th>\n",
              "        </tr>\n",
              "    </thead>\n",
              "    <tbody>\n",
              "        <tr>\n",
              "            <td>75017</td>\n",
              "            <td>36</td>\n",
              "        </tr>\n",
              "        <tr>\n",
              "            <td>75015</td>\n",
              "            <td>29</td>\n",
              "        </tr>\n",
              "        <tr>\n",
              "            <td>75019</td>\n",
              "            <td>29</td>\n",
              "        </tr>\n",
              "    </tbody>\n",
              "</table>"
            ],
            "text/plain": [
              "[(75017, 36), (75015, 29), (75019, 29)]"
            ]
          },
          "metadata": {
            "tags": []
          },
          "execution_count": 31
        }
      ]
    },
    {
      "cell_type": "code",
      "metadata": {
        "colab": {
          "base_uri": "https://localhost:8080/",
          "height": 116
        },
        "id": "71PfgLOo6sQm",
        "outputId": "e8dcbe7e-0b6e-4a84-f1ec-741bb1302905"
      },
      "source": [
        "#utilib 1.4 \n",
        "#postal codes are the same but the numbre of times postal code is used to pick a car is less\n",
        "%%sql\n",
        "select \"Postal code\", count(\"Postal code\") from cleandata\n",
        "where \"Utilib 1.4 counter\"> 0 AND Slots< 7 AND \"hour\" =21\n",
        "group by \"Postal code\" \n",
        "order by count(\"Postal code\") desc limit 2"
      ],
      "execution_count": null,
      "outputs": [
        {
          "output_type": "stream",
          "text": [
            " * sqlite://\n",
            "Done.\n"
          ],
          "name": "stdout"
        },
        {
          "output_type": "execute_result",
          "data": {
            "text/html": [
              "<table>\n",
              "    <thead>\n",
              "        <tr>\n",
              "            <th>Postal code</th>\n",
              "            <th>count(&quot;Postal code&quot;)</th>\n",
              "        </tr>\n",
              "    </thead>\n",
              "    <tbody>\n",
              "        <tr>\n",
              "            <td>75014</td>\n",
              "            <td>5</td>\n",
              "        </tr>\n",
              "        <tr>\n",
              "            <td>75012</td>\n",
              "            <td>3</td>\n",
              "        </tr>\n",
              "    </tbody>\n",
              "</table>"
            ],
            "text/plain": [
              "[(75014, 5), (75012, 3)]"
            ]
          },
          "metadata": {
            "tags": []
          },
          "execution_count": 32
        }
      ]
    }
  ]
}